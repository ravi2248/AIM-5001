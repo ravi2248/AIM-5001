{
 "cells": [
  {
   "cell_type": "code",
   "execution_count": 1,
   "id": "743594ff",
   "metadata": {},
   "outputs": [],
   "source": [
    "#imported required library\n",
    "import re"
   ]
  },
  {
   "cell_type": "code",
   "execution_count": 2,
   "id": "ed7fbbb1",
   "metadata": {},
   "outputs": [],
   "source": [
    "given_text = \"\"\"\n",
    "admin@yu,KATZ.edu: Server email list Dec. 15, 2023: Please review ASAP !!\n",
    "\n",
    "Student: Homer Jay Harmishton      Email:     jay.harmishton@yu.DAV.edu\n",
    "\n",
    "Faculty: Adele D. Helmsley-Chintsworth    Email:   adele.d.chintsworth@yu.AIM.edu\n",
    "\n",
    "Staff: Renfrew Thoreau Donnington Swill   Email:  renfrew.t.d.swill@yu.QE.edu\n",
    "\n",
    "Student: Kanafra Mustafa Soapdi  Email: kanafra.m.soapdi@yu.MAT.edu\n",
    "\n",
    "Security: Xiaoli Kzhang    Email:   xiaoli.kzhang@yu.CYB.edu\n",
    "\n",
    "12.15.2023\n",
    "\n",
    "----  END OF SERVER EMAIL LIST ----\n",
    "\"\"\""
   ]
  },
  {
   "cell_type": "code",
   "execution_count": 3,
   "id": "bd5bed8c",
   "metadata": {},
   "outputs": [],
   "source": [
    "#(?:Student|Faculty|Staff|Security): it matches any of these Student, Faculty, Staff, Security\n",
    "#([A-Za-z]+(?: [A-Za-z]+)*.*): it matches first name and last name.[A-Za-z]+ it matches one or more characters. (?: [A-Za-z]+)*.*) it matches zero or more occurences.\n",
    "#?Email:\\s*: it matches with text Email and followed by zero or more spaces\n",
    "#[^\\s]+@: it matches no spaces. @ matches @ in the mail adress\n",
    "#(yu\\.[A-Za-z]+): it matches with word yu in the mail and the subject name.\n",
    "#\\.edu: it matches .edu in the mail address\n",
    "pattern = r'(?:Student|Faculty|Staff|Security): ([A-Za-z]+(?: [A-Za-z]+)*.*)?Email:\\s*[^\\s]+@(yu\\.[A-Za-z]+)\\.edu'"
   ]
  },
  {
   "cell_type": "code",
   "execution_count": 4,
   "id": "63c1d092",
   "metadata": {},
   "outputs": [],
   "source": [
    "matches = re.findall(pattern, given_text)"
   ]
  },
  {
   "cell_type": "code",
   "execution_count": 5,
   "id": "fafd435a",
   "metadata": {},
   "outputs": [
    {
     "name": "stdout",
     "output_type": "stream",
     "text": [
      "Homer Jay Harmishton       yu.DAV\n",
      "Adele D. Helmsley-Chintsworth     yu.AIM\n",
      "Renfrew Thoreau Donnington Swill    yu.QE\n",
      "Kanafra Mustafa Soapdi   yu.MAT\n",
      "Xiaoli Kzhang     yu.CYB\n"
     ]
    }
   ],
   "source": [
    "for m in matches:\n",
    "    print(m[0], m[1])"
   ]
  },
  {
   "cell_type": "code",
   "execution_count": null,
   "id": "8fc03bd5",
   "metadata": {},
   "outputs": [],
   "source": []
  }
 ],
 "metadata": {
  "kernelspec": {
   "display_name": "Python 3 (ipykernel)",
   "language": "python",
   "name": "python3"
  },
  "language_info": {
   "codemirror_mode": {
    "name": "ipython",
    "version": 3
   },
   "file_extension": ".py",
   "mimetype": "text/x-python",
   "name": "python",
   "nbconvert_exporter": "python",
   "pygments_lexer": "ipython3",
   "version": "3.11.5"
  }
 },
 "nbformat": 4,
 "nbformat_minor": 5
}
